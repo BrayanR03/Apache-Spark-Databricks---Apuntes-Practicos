{
 "cells": [
  {
   "cell_type": "markdown",
   "metadata": {
    "application/vnd.databricks.v1+cell": {
     "cellMetadata": {},
     "inputWidgets": {},
     "nuid": "bdb171e4-c56f-4d12-89cd-a63089567db4",
     "showTitle": false,
     "tableResultSettingsMap": {},
     "title": ""
    }
   },
   "source": [
    "## MANIPULACIÓN DE DATOS (SPARK SQL EN DATABRICKS)"
   ]
  },
  {
   "cell_type": "code",
   "execution_count": 0,
   "metadata": {
    "application/vnd.databricks.v1+cell": {
     "cellMetadata": {
      "byteLimit": 2048000,
      "rowLimit": 10000
     },
     "inputWidgets": {},
     "nuid": "e73c2979-6912-4eb3-8c88-8372565878c4",
     "showTitle": false,
     "tableResultSettingsMap": {},
     "title": ""
    }
   },
   "outputs": [],
   "source": [
    "from pyspark.sql import SparkSession # Puerta de entrada para trabajar con spark <-- SIEMPRE DEBEMOS IMPORTAR LA LLAVE MAESTRA QUE INICIA TODO.\n",
    "from pyspark.sql.functions import *  # Funciones propias del módulo SQL de Spark, para trabajar sobre Dataframes.\n",
    "\n",
    "spark = SparkSession.builder.appName(\"DatabricksSparkSQL\").getOrCreate()"
   ]
  },
  {
   "cell_type": "markdown",
   "metadata": {
    "application/vnd.databricks.v1+cell": {
     "cellMetadata": {},
     "inputWidgets": {},
     "nuid": "13c00770-281a-4559-93e1-ded0f0126c1c",
     "showTitle": false,
     "tableResultSettingsMap": {},
     "title": ""
    }
   },
   "source": [
    "### DATAFRAMES (Versión Databricks Free Edition)"
   ]
  },
  {
   "cell_type": "markdown",
   "metadata": {
    "application/vnd.databricks.v1+cell": {
     "cellMetadata": {},
     "inputWidgets": {},
     "nuid": "cb3fe8f8-cb2c-4c2e-ba4f-25a579e89cad",
     "showTitle": false,
     "tableResultSettingsMap": {},
     "title": ""
    }
   },
   "source": [
    "#### Link de [Databrick Free Edition](https://dbc-89f542f8-2df6.cloud.databricks.com/?o=758509963140561)"
   ]
  },
  {
   "cell_type": "markdown",
   "metadata": {
    "application/vnd.databricks.v1+cell": {
     "cellMetadata": {},
     "inputWidgets": {},
     "nuid": "7c9c736d-562b-46a1-9da2-1af1e2bb35f5",
     "showTitle": false,
     "tableResultSettingsMap": {},
     "title": ""
    }
   },
   "source": [
    "Para abordar el tema de **Manipulación de Datos**, utilizaremos una de las principales herramientas que ofrece **Databricks: Spark SQL**.  \n",
    "Esta herramienta nos permite aplicar conceptos del lenguaje SQL sobre conjuntos de datos estructurados, ya sea que provengan directamente de archivos o estén gobernados a través del servicio **Unity Catalog**.\n",
    "\n",
    "Gracias a Spark SQL, podremos consultar, transformar y analizar datos de forma eficiente, aprovechando tanto la potencia del motor distribuido de Spark como la organización lógica que brinda Unity Catalog.\n"
   ]
  },
  {
   "cell_type": "markdown",
   "metadata": {
    "application/vnd.databricks.v1+cell": {
     "cellMetadata": {},
     "inputWidgets": {},
     "nuid": "977fe4c5-7621-4161-ac95-b38d326688d9",
     "showTitle": false,
     "tableResultSettingsMap": {},
     "title": ""
    }
   },
   "source": [
    "##### FASE 1. FUENTES DE DATOS"
   ]
  },
  {
   "cell_type": "code",
   "execution_count": 0,
   "metadata": {
    "application/vnd.databricks.v1+cell": {
     "cellMetadata": {
      "byteLimit": 2048000,
      "rowLimit": 10000
     },
     "inputWidgets": {},
     "nuid": "24241b3b-f046-4c91-9e20-b3c7610058ed",
     "showTitle": false,
     "tableResultSettingsMap": {},
     "title": ""
    }
   },
   "outputs": [],
   "source": [
    "#### ➡️ Como se venía explicando, Unity Catalog trabaja bajo una jerarquía de Catálagos, Esquemas, Volumenes y Tablas.\n",
    "####     Por ende, es diferente la manera de acceder a su contenido.\n",
    "\n",
    "#====== 📌 LEER ARCHIVO CSV \n",
    "##📝 SINTAXIS:\n",
    "#   dataset_nombre = spark.read.option(\"header\",\"true\").option(\"inferSchema\",\"true\").csv(\"/Volumes/NombreCatalago/NombreEsquema/NombreArchivo\")\n",
    "\n",
    "#---> spark.read : Permite leer un archivo basado en una ruta. Siempre instanciando primero SparkSession.\n",
    "#---> .option(\"header\",\"true||false\") : Permite establecer si tomará en cuenta los encabezados del dataset. true(mostrar) | false(ocultar)\n",
    "#---> .option(\"inferSchema\",\"true||false\") : Permite reconocer el tipo de dato de cada columna del dataset. true(mostrar) | false(ocultar)\n",
    "#---> .csv(RutaArchivoCSV) : Tipo de archivo a leer (En este caso un CSV).\n",
    "\n",
    "## 📝 EJEMPLO:\n",
    "df_titanic_csv = spark.read.option(\"header\",\"true\").option(\"inferSchema\",\"true\").csv(\"/Volumes/explicacion_unity_catalog/ejemplos/csv_titanic\")\n",
    "# df_titanic_csv.show(5)\n",
    "\n",
    "#====== 📌 LEER ARCHIVO PARQUET\n",
    "##📝 SINTAXIS:\n",
    "#   dataset_nombre = spark.read.parquet(\"/Volumes/NombreCatalago/NombreEsquema/NombreArchivoPARQUET\")\n",
    "\n",
    "#---> spark.read : Permite leer un archivo basado en una ruta. Siempre instanciando primero SparkSession.\n",
    "#---> .parquet(RutaArchivoPARQUET) : Tipo de archivo a leer (En este caso un PARQUET).\n",
    "\n",
    "## 📝 EJEMPLO\n",
    "df_titanic_parquet = spark.read.parquet(\"/Volumes/explicacion_unity_catalog/ejemplos/parquet_titanic\")\n",
    "# df_titanic_parquet.show(5)\n",
    "\n",
    "#====== 📌 LEER ARCHIVO DELTA\n",
    "## 📝 SINTAXIS:\n",
    "#   dataset_nombre = spark.read.format(\"delta\").load(\"/Volumes/NombreCatalago/NombreEsquema/NombreArchivoDELTA\")\n",
    "\n",
    "#---> spark.read : Permite leer un archivo basado en una ruta. Siempre instanciando primero SparkSession.\n",
    "#---> .format(\"delta\") : stablece el tipo de archivo a leer (En este caso aplica siempre para DELTA)\n",
    "#---> .load(RutaArchivoDelta) : Aplica solo a los archivos DELTA.\n",
    "\n",
    "## 📝 EJEMPLO:\n",
    "df_titanic_archivo_delta = spark.read.format(\"delta\").load(\"/Volumes/explicacion_unity_catalog/ejemplos/archivo_delta_titanic\")\n",
    "# df_titanic_archivo_delta.show(5)\n",
    "\n",
    "#====== 📌 LEER TABLA DELTA (RECOMENDADO Y NATIVO EN DATABRICKS-UNITY-CATALOG)\n",
    "## 📝 SINTAXIS:\n",
    "#   dataset_nombre = spark.sql(\"SELECT * FROM NombreCatalago.NombreEsquema.NombreTablaDelta\")\n",
    "\n",
    "#---> spark.sql() : Permite leer mediante lenguaje SQL una tabla delta. Siempre instanciando primero SparkSession.\n",
    "#---> \"NombreCatalago.NombreEsquema.NombreTablaDelta\" : Ruta aplicable solo para las tablas delta y gobernadas por Unity Catalog\n",
    "\n",
    "## 📝 EJEMPLO\n",
    "df_titanic_delta = spark.sql(\"SELECT * FROM explicacion_unity_catalog.ejemplos.delta_titanic\")\n",
    "# df_titanic_delta.show(5)"
   ]
  },
  {
   "cell_type": "markdown",
   "metadata": {
    "application/vnd.databricks.v1+cell": {
     "cellMetadata": {},
     "inputWidgets": {},
     "nuid": "7cd4a063-2337-43a2-bc32-7e739882d27a",
     "showTitle": false,
     "tableResultSettingsMap": {},
     "title": ""
    }
   },
   "source": [
    "##### FASE 2. EXPLORACIÓN INICIAL"
   ]
  },
  {
   "cell_type": "markdown",
   "metadata": {
    "application/vnd.databricks.v1+cell": {
     "cellMetadata": {},
     "inputWidgets": {},
     "nuid": "072cc5f7-fa2f-4206-959d-80b0914f90e6",
     "showTitle": false,
     "tableResultSettingsMap": {},
     "title": ""
    }
   },
   "source": [
    "Utilizaremos de ejemplo el dataset de titanic ( en formato tabla delta y CSV)"
   ]
  },
  {
   "cell_type": "code",
   "execution_count": 0,
   "metadata": {
    "application/vnd.databricks.v1+cell": {
     "cellMetadata": {
      "byteLimit": 2048000,
      "rowLimit": 10000
     },
     "inputWidgets": {},
     "nuid": "6e253d9b-3aa8-43e0-b929-69872197e5f7",
     "showTitle": false,
     "tableResultSettingsMap": {},
     "title": ""
    }
   },
   "outputs": [],
   "source": [
    "#====== A). Quitar encabezados originales provenientes del Dataset (Archivos CSV).\n",
    "df_titanic_archivo_delta = spark.read.csv(\"/Volumes/explicacion_unity_catalog/ejemplos/csv_titanic\") ## ⬅️ Archivo CSV\n",
    "df_titanic_archivo_delta.show(3)\n",
    "#### 🧠💡 Importante: Cuando leamos un archivo CSV, si no establecemos .option(\"header\",\"true\")\n",
    "####                   el dataframe mostrará las columnas con un prefijo c_ seguido de una posición asignada.\n",
    "####                   (Y los nombres de columnas serán parte de los registros del dataset)"
   ]
  },
  {
   "cell_type": "code",
   "execution_count": 0,
   "metadata": {
    "application/vnd.databricks.v1+cell": {
     "cellMetadata": {
      "byteLimit": 2048000,
      "rowLimit": 10000
     },
     "inputWidgets": {},
     "nuid": "38f7d025-9d30-4880-9c32-74776c068d0d",
     "showTitle": false,
     "tableResultSettingsMap": {},
     "title": ""
    }
   },
   "outputs": [],
   "source": [
    "#====== B). Mostrar los N primeros registros de un dataset.\n",
    "\n",
    "df_titanic_delta = spark.sql(\"SELECT * FROM explicacion_unity_catalog.ejemplos.delta_titanic\") ## ⬅️ Tabla delta\n",
    "\n",
    "#### 📝 SINTAXIS: dataset_nombre.show(NúmeroDeRegistros)\n",
    "\n",
    "#### 📝 EJEMPLO 1:\n",
    "# df_titanic_delta.show(10) ## ⬅️ Mostrar los 10 primeros registros.\n",
    "\n",
    "#### 📝 EJEMPLO 2:\n",
    "# df_titanic_delta.show(5) ## ⬅️ Mostrar los 5 primeros registros.\n",
    "\n",
    "#### 📝 EJEMPLO 3:\n",
    "df_titanic_delta.show(3) ## ⬅️ Mostrar los 3 primeros registros."
   ]
  },
  {
   "cell_type": "code",
   "execution_count": 0,
   "metadata": {
    "application/vnd.databricks.v1+cell": {
     "cellMetadata": {
      "byteLimit": 2048000,
      "rowLimit": 10000
     },
     "inputWidgets": {},
     "nuid": "eb5e834b-4a6d-4600-b862-da940d8ecb6e",
     "showTitle": false,
     "tableResultSettingsMap": {},
     "title": ""
    }
   },
   "outputs": [],
   "source": [
    "#====== C). Mostrar los N últimos registros de un dataset (Retornado en una lista).\n",
    "\n",
    "df_titanic_delta = spark.sql(\"SELECT * FROM explicacion_unity_catalog.ejemplos.delta_titanic\") ## ⬅️ Tabla delta\n",
    "\n",
    "#### 📝 SINTAXIS: dataset_nombre.tail(NúmeroDeRegistros)\n",
    "\n",
    "#### 📝 EJEMPLO 1:\n",
    "# df_titanic_delta.tail(10) ## ⬅️ Mostrar los 10 primeros últimos.\n",
    "\n",
    "#### 📝 EJEMPLO 2:\n",
    "# df_titanic_delta.tail(5) ## ⬅️ Mostrar los 5 primeros últimos.\n",
    "\n",
    "#### 📝 EJEMPLO 3:\n",
    "df_titanic_delta.tail(3) ## ⬅️ Mostrar los 3 primeros últimos."
   ]
  },
  {
   "cell_type": "code",
   "execution_count": 0,
   "metadata": {
    "application/vnd.databricks.v1+cell": {
     "cellMetadata": {
      "byteLimit": 2048000,
      "rowLimit": 10000
     },
     "inputWidgets": {},
     "nuid": "04482e74-468a-4215-8dad-45de1268436e",
     "showTitle": false,
     "tableResultSettingsMap": {},
     "title": ""
    }
   },
   "outputs": [],
   "source": [
    "#====== D). Mostrar el volúmen del dataset (Cantidad de filas y columnas respectivamente)\n",
    "\n",
    "df_titanic_delta = spark.sql(\"SELECT * FROM explicacion_unity_catalog.ejemplos.delta_titanic\") ## ⬅️ Tabla delta\n",
    "\n",
    "#### 📝 SINTAXIS: \n",
    "#       dataset_nombre.count() ⬅️ Cantidad de filas\n",
    "#       len([i for i in dataframe_nombre.columns]) ⬅️ Cantidad de columnas\n",
    "\n",
    "#### 📝 EJEMPLO 1:\n",
    "print(f\"Cantidad de filas: {df_titanic_delta.count()}\") ## ⬅️ Cantidad de filas.\n",
    "\n",
    "#### 📝 EJEMPLO 2:\n",
    "print(f\"Cantidad de columnas: {len([i for i in df_titanic_delta.columns])}\") ## ⬅️ Cantidad de columnas."
   ]
  },
  {
   "cell_type": "markdown",
   "metadata": {
    "application/vnd.databricks.v1+cell": {
     "cellMetadata": {},
     "inputWidgets": {},
     "nuid": "1fe9efb3-5cdf-4254-8128-9e29c0f4e0e6",
     "showTitle": false,
     "tableResultSettingsMap": {},
     "title": ""
    }
   },
   "source": [
    "##### FASE 3. EXPLORACIÓN INICIAL"
   ]
  },
  {
   "cell_type": "markdown",
   "metadata": {
    "application/vnd.databricks.v1+cell": {
     "cellMetadata": {},
     "inputWidgets": {},
     "nuid": "6c871f58-4bdd-457b-b93a-10e79d83f6b0",
     "showTitle": false,
     "tableResultSettingsMap": {},
     "title": ""
    }
   },
   "source": [
    "###### FASE 3.1. DATOS CUALITATIVOS"
   ]
  },
  {
   "cell_type": "code",
   "execution_count": 0,
   "metadata": {
    "application/vnd.databricks.v1+cell": {
     "cellMetadata": {
      "byteLimit": 2048000,
      "rowLimit": 10000
     },
     "inputWidgets": {},
     "nuid": "842aed67-f394-4048-a525-c7fe4d848771",
     "showTitle": false,
     "tableResultSettingsMap": {},
     "title": ""
    }
   },
   "outputs": [],
   "source": [
    "\"\"\"\n",
    "    A). CONVERTIR A MAYÚSCULAS LOS DATOS CUALITATIVOS DE UNA COLUMNA EN UN DATASET\n",
    "    \n",
    "    📝 SINTAXIS:\n",
    "\n",
    "        dataframe_nombre = dataframe_nombre.withColumn(\n",
    "            \"NombreColumnaNueva\",\n",
    "            upper(col(\"NombreColumnaCualitativa\")) ⬅️ Función upper() integrada en Spark SQL.\n",
    "        )\n",
    "    ### 🧠 En este caso, debemos almacenar en una variable los cambios a realizar en el dataframe\n",
    "    ### 💡 Importante: Siempre .withColumn() trabajará con al menos una columna del dataset.\n",
    "\"\"\"\n",
    "\n",
    "# 💡 EJEMPLO:\n",
    "df_titanic_delta = df_titanic_delta.withColumn(\n",
    "    \"embark_town\",\n",
    "    upper(col(\"embark_town\")) ## ⬅️ Convertimos a mayúsculas los datos de la columna cualitativa \"\"embark_town\"\"\n",
    ")\n",
    "df_titanic_delta.show(3)"
   ]
  },
  {
   "cell_type": "code",
   "execution_count": 0,
   "metadata": {
    "application/vnd.databricks.v1+cell": {
     "cellMetadata": {
      "byteLimit": 2048000,
      "rowLimit": 10000
     },
     "inputWidgets": {},
     "nuid": "0100db6f-3ef4-4b75-91aa-160ef6ecdffa",
     "showTitle": false,
     "tableResultSettingsMap": {},
     "title": ""
    }
   },
   "outputs": [],
   "source": [
    "\"\"\"\n",
    "    B). CONVERTIR A MINÚSCULAS LOS DATOS CUALITATIVOS DE UNA COLUMNA EN UN DATASET\n",
    "    \n",
    "    📝 SINTAXIS:\n",
    "\n",
    "        dataframe_nombre = dataframe_nombre.withColumn(\n",
    "            \"NombreColumnaNueva\",\n",
    "            lower(col(\"NombreColumnaCualitativa\")) ⬅️ Función lower() integrada en Spark SQL.\n",
    "        )\n",
    "    ### 🧠 En este caso, debemos almacenar en una variable los cambios a realizar en el dataframe\n",
    "    ### 💡 Importante: Siempre .withColumn() trabajará con al menos una columna del dataset.\n",
    "\"\"\"\n",
    "\n",
    "# 💡 EJEMPLO:\n",
    "df_titanic_delta = df_titanic_delta.withColumn(\n",
    "    \"embark_town\",\n",
    "    lower(col(\"embark_town\")) ## ⬅️ Convertimos a minúsculas los datos de la columna cualitativa \"\"embark_town\"\"\n",
    ")\n",
    "df_titanic_delta.show(3)"
   ]
  },
  {
   "cell_type": "code",
   "execution_count": 0,
   "metadata": {
    "application/vnd.databricks.v1+cell": {
     "cellMetadata": {
      "byteLimit": 2048000,
      "rowLimit": 10000
     },
     "inputWidgets": {},
     "nuid": "daf6de6e-361c-4e50-beb5-1be9c1b90553",
     "showTitle": false,
     "tableResultSettingsMap": {},
     "title": ""
    }
   },
   "outputs": [],
   "source": [
    "\"\"\"\n",
    "    C). CONVERTIR A MAYÚSCULA LA PRIMERA LETRA DE CADA DATO CUALITATIVOS DE UNA COLUMNA EN UN DATASET\n",
    "    \n",
    "    📝 SINTAXIS:\n",
    "\n",
    "        dataframe_nombre = dataframe_nombre.withColumn(\n",
    "            \"NombreColumnaNueva\",\n",
    "            initcap(col(\"NombreColumnaCualitativa\")) ⬅️ Función initcap() integrada en Spark SQL.\n",
    "        )\n",
    "    ### 🧠 En este caso, debemos almacenar en una variable los cambios a realizar en el dataframe\n",
    "    ### 💡 Importante: Siempre .withColumn() trabajará con al menos una columna del dataset.\n",
    "\"\"\"\n",
    "\n",
    "# 💡 EJEMPLO:\n",
    "df_titanic_delta = df_titanic_delta.withColumn(\n",
    "    \"embark_town\",\n",
    "    initcap(col(\"embark_town\")) ## ⬅️ Convertimos la primera letra en mayúscula de cada dato en la columna cualitativa \"\"embark_town\"\"\n",
    ")\n",
    "df_titanic_delta.show(3)"
   ]
  },
  {
   "cell_type": "code",
   "execution_count": 0,
   "metadata": {
    "application/vnd.databricks.v1+cell": {
     "cellMetadata": {
      "byteLimit": 2048000,
      "rowLimit": 10000
     },
     "inputWidgets": {},
     "nuid": "58aab99e-657c-4821-8846-5c42ba6762b9",
     "showTitle": false,
     "tableResultSettingsMap": {},
     "title": ""
    }
   },
   "outputs": [],
   "source": [
    "\"\"\"\n",
    "    D). EXTRAER DE CADA DATO CUALITATIVO UNA CADENA EN ESPECÍFICO MEDIANTE >>EXPRESIONES REGULARES<< EN UN DATASET\n",
    "    \n",
    "    📝 SINTAXIS:\n",
    "\n",
    "        dataframe_nombre = dataframe_nombre.withColumn(\n",
    "            \"NombreColumnaNueva\",\n",
    "                regexp_extract(col(\"embark_town\"),r'([A-Z])',1) ⬅️ Función regexp_extract() integrada en Spark SQL.\n",
    "        )\n",
    "    ### 🧠 En este caso, debemos almacenar en una variable los cambios a realizar en el dataframe\n",
    "    ### 💡 Importante: Siempre .withColumn() trabajará con al menos una columna del dataset.\n",
    "\"\"\"\n",
    "\n",
    "# 💡 EJEMPLO 1: ⬅️ Extraemos primera letra en mayúscula \n",
    "# df_titanic_delta = df_titanic_delta.withColumn(\n",
    "#     \"PrimeraLetraEnMayúscula\",\n",
    "#     regexp_extract(col(\"embark_town\"),r'([A-Z])',1)\n",
    "# )\n",
    "# df_titanic_delta.show(3)\n",
    "\n",
    "# 💡 EJEMPLO 2: ⬅️ Extraemos primera letra en minúscula \n",
    "# df_titanic_delta = df_titanic_delta.withColumn(\n",
    "#     \"PrimeraLetraEnMinúscula\",\n",
    "#     regexp_extract(col(\"embark_town\"),r'([a-z])',0)\n",
    "# )\n",
    "# df_titanic_delta.show(3)\n",
    "\n",
    "# 💡 EJEMPLO 3: ⬅️ Retornamos todo después de una letra en mayúscula \n",
    "# df_titanic_delta = df_titanic_delta.withColumn(\n",
    "#     \"TodoDespuesDeUnaMayúscula\",\n",
    "#     regexp_extract(col(\"embark_town\"),r'[A-Z]([a-z]+)', 1)\n",
    "# )\n",
    "# df_titanic_delta.show(3)\n",
    "\n",
    "# 💡 EJEMPLO 4: ⬅️ Retornamos todo después de una letra en minúscula \n",
    "# df_titanic_delta = df_titanic_delta.withColumn(\n",
    "#     \"TodoDespuesDeUnaMinúscula\",\n",
    "#     regexp_extract(col(\"embark_town\"),r'[a-z]([a-z]+)', 1)\n",
    "# )\n",
    "# df_titanic_delta.show(3)\n",
    "\n",
    "# 💡 EJEMPLO 5: ⬅️ Retornamos todo después de un número\n",
    "# df_titanic_delta = df_titanic_delta.withColumn(\n",
    "#     \"TodoDespuesDeUnNúmero\",\n",
    "#     regexp_extract(col(\"embark_town\"),r'([0-9]+)', 1)\n",
    "# )\n",
    "# df_titanic_delta.show(3)\n"
   ]
  },
  {
   "cell_type": "code",
   "execution_count": 0,
   "metadata": {
    "application/vnd.databricks.v1+cell": {
     "cellMetadata": {
      "byteLimit": 2048000,
      "rowLimit": 10000
     },
     "inputWidgets": {},
     "nuid": "187aeed1-2d0d-4205-9597-093aec868b27",
     "showTitle": false,
     "tableResultSettingsMap": {},
     "title": ""
    }
   },
   "outputs": [],
   "source": [
    "\"\"\"\n",
    "    E). REEMPLAZAR VALORES DE DATOS CUALITATIVOS MEDIANTE >>EXPRESIONES REGULARES<< EN UN DATASET\n",
    "    \n",
    "    📝 SINTAXIS:\n",
    "    \n",
    "    \n",
    "    ### 🧠 En este caso, debemos almacenar en una variable los cambios a realizar en el dataframe\n",
    "    ### 💡 Importante: Siempre .withColumn() trabajará con al menos una columna del dataset.\n",
    "\"\"\"\n",
    "### DATASET DE PRUEBA PARA ESTE EJEMPLO\n",
    "datos_sucios = {\n",
    "    \"nombre\": [\n",
    "        \"  JUAN  pérez  \", \n",
    "        \"MARÍA@@LÓPEZ\", \n",
    "        \"Ana--Martínez\", \n",
    "        \"carlos_rodríguez \", \n",
    "        \"Sofía123 García\"\n",
    "    ],\n",
    "    \"categoria_producto\": [\n",
    "        \"ELECTRÓNICA#1\", \n",
    "        \"ropa--Mujer\", \n",
    "        \"hogar_y_DECORACIÓN\", \n",
    "        \"LIBROS@@\", \n",
    "        \"Juguetes  niños\"\n",
    "    ],\n",
    "    \"codigo\": [\n",
    "        \"ID-0001\", \n",
    "        \"ID-0023\", \n",
    "        \"CL-1234\", \n",
    "        \"ID-abc123\", \n",
    "        \"id-9999\"\n",
    "    ]\n",
    "}\n",
    "## Dataset de prueba (sucio)\n",
    "df_test = spark.createDataFrame(data=list(zip(*datos_sucios.values())),schema=[\"nombre\",\"categoria_producto\",\"codigo\"])\n",
    "# df_test.show()\n",
    "\n",
    "## Dataset de prueba (limpio)\n",
    "df_test_clean = df_test \n",
    "# df_test_clean.show()\n",
    "\n",
    "## 💡 EJEMPLO 1: ⬅️ Eliminar caractéres especiales (@@,#,--,_)\n",
    "df_test_clean = df_test_clean.withColumns({\n",
    "    \"categoria_producto\":\n",
    "    regexp_replace(col(\"categoria_producto\"),r'[^A-Za-z0-9ÁÉÍÓÚáéíóúÑñÜü]',\" \"),\n",
    "    \"nombre\":\n",
    "    regexp_replace(col(\"nombre\"),r'[^A-Za-z0-9ÁÉÍÓÚáéíóúÑñÜü]',' ')\n",
    "})\n",
    "# df_test_clean.show()\n",
    "\n",
    "## 💡 EJEMPLO 2: ⬅️ Normalizar espacios (Varios espacios en blanco a uno solo)\n",
    "df_test_clean = df_test_clean.withColumns({\n",
    "    \"categoria_producto\":\n",
    "    regexp_replace(col(\"categoria_producto\"),r'\\s+',\" \"),\n",
    "    \"nombre\":\n",
    "    regexp_replace(col(\"nombre\"),r'\\s+',' ')\n",
    "})\n",
    "# df_test_clean.show()\n",
    "\n",
    "## 💡 EJEMPLO 3: ⬅️ Reemplazar guiones por espacios en blanco\n",
    "df_test_clean = df_test_clean.withColumn(\n",
    "    \"nombre\",\n",
    "    regexp_replace(col(\"nombre\"),r'[-_]',' ')\n",
    ")\n",
    "# df_test_clean.show()\n",
    "\n",
    "## 💡 EJEMPLO 4: ⬅️ Eliminar prefijos (ID- || CL- || id- || Letras)\n",
    "df_test_clean = df_test_clean.withColumn(\n",
    "    \"codigo\",\n",
    "    regexp_replace(col(\"codigo\"),r'^ID-|^CL-|^id-|[a-zA-Z]','')\n",
    ")\n",
    "# df_test_clean.show()\n",
    "\n",
    "## 💡 EJEMPLO 5: ⬅️ Eliminar números dentro de cadenas\n",
    "df_test_clean = df_test_clean.withColumns({\n",
    "    \"nombre\":\n",
    "    regexp_replace(initcap(col(\"nombre\")),r'[0-9]',''),\n",
    "    \"categoria_producto\":\n",
    "    regexp_replace(initcap(col(\"categoria_producto\")),r'[0-9]','')\n",
    "})\n",
    "df_test_clean.show()\n"
   ]
  },
  {
   "cell_type": "code",
   "execution_count": 0,
   "metadata": {
    "application/vnd.databricks.v1+cell": {
     "cellMetadata": {},
     "inputWidgets": {},
     "nuid": "afbc9f29-2178-4f53-8327-b81fed3a698e",
     "showTitle": false,
     "tableResultSettingsMap": {},
     "title": ""
    }
   },
   "outputs": [],
   "source": []
  }
 ],
 "metadata": {
  "application/vnd.databricks.v1+notebook": {
   "computePreferences": null,
   "dashboards": [],
   "environmentMetadata": {
    "base_environment": "",
    "environment_version": "2"
   },
   "inputWidgetPreferences": null,
   "language": "python",
   "notebookMetadata": {
    "pythonIndentUnit": 4
   },
   "notebookName": "07_Manipulacion_Datos_SparkSQL-Databricks",
   "widgets": {}
  },
  "language_info": {
   "name": "python"
  }
 },
 "nbformat": 4,
 "nbformat_minor": 0
}
