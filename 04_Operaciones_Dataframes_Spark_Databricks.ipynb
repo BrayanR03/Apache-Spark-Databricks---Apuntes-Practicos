{
 "cells": [
  {
   "cell_type": "code",
   "execution_count": 0,
   "metadata": {
    "application/vnd.databricks.v1+cell": {
     "cellMetadata": {
      "byteLimit": 2048000,
      "rowLimit": 10000
     },
     "inputWidgets": {},
     "nuid": "ef93c509-851a-42cb-85fe-96d29186fc68",
     "showTitle": false,
     "tableResultSettingsMap": {},
     "title": ""
    }
   },
   "outputs": [],
   "source": [
    "from pyspark.sql import SparkSession # Puerta de entrada para trabajar con spark <-- SIEMPRE DEBEMOS IMPORTAR LA LLAVE MAESTRA QUE INICIA TODO.\n",
    "from pyspark.sql.functions import *  # Funciones propias del módulo SQL de Spark, para trabajar sobre Dataframes.\n",
    "from pyspark.sql.types import *\n",
    "spark = SparkSession.builder.appName(\"OperacionesDataframesApacheSparkDatabricks\").getOrCreate() \n",
    "\"\"\"\n",
    "^          ^__________^        ^_________^                               ^\n",
    "|                |                   |                                   | \n",
    "Variable   Constructor de Sesión   Nombre Aplicación       Evita conflicto del SparkSession\"\"\"\n"
   ]
  },
  {
   "cell_type": "markdown",
   "metadata": {
    "application/vnd.databricks.v1+cell": {
     "cellMetadata": {},
     "inputWidgets": {},
     "nuid": "6177dadb-b606-493f-9cfb-65f5691b7235",
     "showTitle": false,
     "tableResultSettingsMap": {},
     "title": ""
    }
   },
   "source": [
    "### DATAFRAMES (Versión Databricks Free Edition)"
   ]
  },
  {
   "cell_type": "markdown",
   "metadata": {
    "application/vnd.databricks.v1+cell": {
     "cellMetadata": {},
     "inputWidgets": {},
     "nuid": "6e0d509e-4b40-473c-89d4-a62651ff4890",
     "showTitle": false,
     "tableResultSettingsMap": {},
     "title": ""
    }
   },
   "source": [
    "#### Link de [Databrick Free Edition](https://dbc-89f542f8-2df6.cloud.databricks.com/?o=758509963140561)"
   ]
  },
  {
   "cell_type": "markdown",
   "metadata": {
    "application/vnd.databricks.v1+cell": {
     "cellMetadata": {},
     "inputWidgets": {},
     "nuid": "90e530e6-87b6-41e0-835e-dbffa6e42c3e",
     "showTitle": false,
     "tableResultSettingsMap": {},
     "title": ""
    }
   },
   "source": [
    "##### OPERACIONES BÁSICAS CON DATAFRAMES EN DATABRICKS"
   ]
  },
  {
   "cell_type": "code",
   "execution_count": 0,
   "metadata": {
    "application/vnd.databricks.v1+cell": {
     "cellMetadata": {
      "byteLimit": 2048000,
      "rowLimit": 10000
     },
     "inputWidgets": {},
     "nuid": "df92c7d1-2a20-4cae-a5d4-a8fc3a51d312",
     "showTitle": false,
     "tableResultSettingsMap": {},
     "title": ""
    }
   },
   "outputs": [],
   "source": [
    "# Trabajaremos con este dataframe\n",
    "diccionario = {\n",
    "  \"Nombre\":[\"Pepe\",\"Juan\",\"Pedro\",\"Carlos\",\"Raul\"],\n",
    "  \"Edad\":[20,25,26,24,21],\n",
    "  \"Nota\":[10,12,15,14,10]\n",
    "}\n",
    "# En caso los tipos de datos de cada columna sean variados,\n",
    "# los definimos aparte y luego lo integramos en createDataFrame(schema=**)\n",
    "from pyspark.sql.types import * ## Importamos esta librería para la creación de estructuras desde cero.\n",
    "schema_dataframe = StructType([ #⬅️ Método para definir nuevos tipos de estructuras, en este caso, columnas de un DF.\n",
    "  StructField(\"Nombre\",StringType(),True), #⬅️ Método para definir columna: StructField(NombreColumna,TipoDato,True)\n",
    "  StructField(\"Edad\",LongType(),True),\n",
    "  StructField(\"Nota\",LongType(),True)\n",
    "])\n",
    "df_example = spark.createDataFrame(data=list(zip(*diccionario.values())),schema=schema_dataframe) \n",
    "df_example.show()"
   ]
  },
  {
   "cell_type": "code",
   "execution_count": 0,
   "metadata": {
    "application/vnd.databricks.v1+cell": {
     "cellMetadata": {
      "byteLimit": 2048000,
      "rowLimit": 10000
     },
     "inputWidgets": {},
     "nuid": "265d3a9d-8da4-4c7c-a06a-d3b44e1f7c58",
     "showTitle": false,
     "tableResultSettingsMap": {},
     "title": ""
    }
   },
   "outputs": [],
   "source": [
    "##============== Obtener valor o valores de una columna en un Dataframe\n",
    "df_example[[\"Edad\"]].show() # Obtenemos el valor de una columna\n",
    "df_example[[\"Nombre\",\"Edad\"]].show() # Obtenemos valores de varias columnas"
   ]
  },
  {
   "cell_type": "code",
   "execution_count": 0,
   "metadata": {
    "application/vnd.databricks.v1+cell": {
     "cellMetadata": {
      "byteLimit": 2048000,
      "rowLimit": 10000
     },
     "inputWidgets": {},
     "nuid": "e91f08f8-4231-43f8-b5a5-2583cfa1a3de",
     "showTitle": false,
     "tableResultSettingsMap": {},
     "title": ""
    }
   },
   "outputs": [],
   "source": [
    "##============== Fitrar valores en una o varias columnas: método ➡️.filter(col(NombreColumna)&|Condición)\n",
    "# Filtramos los registros con la edad mayor a 21...\n",
    "df_example.filter(col(\"Edad\")>21).show() # Mediante la función col(NombreColumna), accedemos a la columna y sus filas. \n",
    "# Filtrar valores en dos columnas específicas\n",
    "df_example.filter(\n",
    "  (col(\"Edad\")==25) & (col(\"Nombre\")=='Juan')\n",
    ").show() # La condición es separada en tuplas y con un operador lógico."
   ]
  },
  {
   "cell_type": "code",
   "execution_count": 0,
   "metadata": {
    "application/vnd.databricks.v1+cell": {
     "cellMetadata": {
      "byteLimit": 2048000,
      "rowLimit": 10000
     },
     "inputWidgets": {},
     "nuid": "b79044f5-c2a2-4348-8be3-d0d1444f077b",
     "showTitle": false,
     "tableResultSettingsMap": {},
     "title": ""
    }
   },
   "outputs": [],
   "source": [
    "##============== Agregar nuevas columnas al Dataframe: método ➡️.withColumn(NombreColumna,Condición/Valor)\n",
    "# Utilizaremos lit para valores literales y/o asignar valores\n",
    "df_example = df_example.withColumn( #⬅️ Agregamos una sola columna\n",
    "  \"Estado\", # Nuevo nombre de la columna\n",
    "  lit(\"Activo\") # Agregar el mismo valor para la N cantidad de filas\n",
    ") \n",
    "df_example.show()\n",
    "\n",
    "#⬅️ Agregamos varias columnas: método ➡️.withColumns({NombreColumna:Condición/Valor})\n",
    "df_example = df_example.withColumns({ \n",
    "  \"Estado\": # Nuevo nombre de la columna 1\n",
    "  lit(\"Activo\"), # Agregar el mismo valor para la N cantidad de filas\n",
    "  \"Fecha Registro\": # Nuevo nombre de la columna 2\n",
    "  lit(\"2025-07-15\"), # Agregar el mismo valor para la N cantidad de filas\n",
    "}) \n",
    "df_example.show()\n",
    "\n",
    "##=============== Agregar nueva columna al Dataframe en base a una condición: método ➡️.withColumn(NombreColumna,Condición)\n",
    "df_example = df_example.withColumn(\n",
    "  \"Categorid_Edad\",                                        # Nombre de nueva columna\n",
    "  when(col(\"Edad\")<18,lit(\"Menor\"))                        # Primera condición\n",
    "  .when((col(\"Edad\")>=18) & (col(\"Edad\")<25),lit(\"Joven\")) # Segunda condición\n",
    "  .otherwise(lit(\"Adulto\"))                                # Última condición\n",
    ")\n",
    "df_example.show()"
   ]
  },
  {
   "cell_type": "code",
   "execution_count": 0,
   "metadata": {
    "application/vnd.databricks.v1+cell": {
     "cellMetadata": {
      "byteLimit": 2048000,
      "rowLimit": 10000
     },
     "inputWidgets": {},
     "nuid": "2b7a0e37-ea9b-4c8a-99f3-ee8d3227f0ed",
     "showTitle": false,
     "tableResultSettingsMap": {},
     "title": ""
    }
   },
   "outputs": [],
   "source": [
    "##=============== Seleccionamos una o más columnas del dataframe: método ➡️.select(col(NombreColumna))\n",
    "df_example = df_example.select(\n",
    "  col(\"Nombre\"),                   # Seleccionamos columna Nombre\n",
    "  col(\"Edad\"),                     # Seleccionamos columna Edad\n",
    ")\n",
    "df_example.show()"
   ]
  },
  {
   "cell_type": "code",
   "execution_count": 0,
   "metadata": {
    "application/vnd.databricks.v1+cell": {
     "cellMetadata": {
      "byteLimit": 2048000,
      "rowLimit": 10000
     },
     "inputWidgets": {},
     "nuid": "e36b4ae3-9cf8-4203-ab06-220d21713992",
     "showTitle": false,
     "tableResultSettingsMap": {},
     "title": ""
    }
   },
   "outputs": [],
   "source": [
    "##=============== Renombrar una columna de un DataFrame: \n",
    "# ➡️método .withColumnRenamed(existing=NombreColumnaActual,new=NombreNuevoColumna) ||\n",
    "# ➡️método .withColumnsRenamed({NombreAntiguoExistente1:NombreNuevoColumna1,NombreAntiguoExistente2:NombreNuevoColumna2}) \n",
    "\n",
    "df_example = df_example.withColumnRenamed(existing=\"Nombre\",new=\"Name\") #⬅️ Renombra columnas individuales\n",
    "df_example = df_example.withColumnsRenamed({\"Nombre\":\"Name\",\"Edad\":\"Age\"}) #⬅️ Renombra varias columnas\n",
    "# df_example = df_example.selectExpr(\"Nombre AS Name\",\"Edad as Age\") \n",
    "#⬅️ .selectExpr() renombra la o las columnas, sin embargo, selecciona esas renombradas y omite el resto (No recomendado) \n",
    "df_example.show()"
   ]
  },
  {
   "cell_type": "code",
   "execution_count": 0,
   "metadata": {
    "application/vnd.databricks.v1+cell": {
     "cellMetadata": {
      "byteLimit": 2048000,
      "rowLimit": 10000
     },
     "inputWidgets": {},
     "nuid": "256392a5-97ca-4475-aa87-ed12b5e2e25b",
     "showTitle": false,
     "tableResultSettingsMap": {},
     "title": ""
    }
   },
   "outputs": [],
   "source": [
    "\n",
    "##=============== Eliminar columnas de un Dataframe: ➡️ método .drop(col(NombreColumna)) \n",
    "df_example = df_example.drop(col(\"Nota\")) # Ingresar nombre de columna a eliminar\n",
    "df_example.show()"
   ]
  },
  {
   "cell_type": "code",
   "execution_count": 0,
   "metadata": {
    "application/vnd.databricks.v1+cell": {
     "cellMetadata": {
      "byteLimit": 2048000,
      "rowLimit": 10000
     },
     "inputWidgets": {},
     "nuid": "0374de78-5d3e-47ff-8a30-f34de2f25fdb",
     "showTitle": false,
     "tableResultSettingsMap": {},
     "title": ""
    }
   },
   "outputs": [],
   "source": [
    "##=============== Ordenar Dataframe por una columna en específico: ➡️ método .sort(col(NombreColumna).asc() || .desc())\n",
    "df_example.orderBy(col(\"Edad\").desc()).show() # Forma descendente por la columna Edad\n",
    "df_example.orderBy(col(\"Edad\").asc()).show() # Forma ascendente por la columna Edad\n"
   ]
  }
 ],
 "metadata": {
  "application/vnd.databricks.v1+notebook": {
   "computePreferences": null,
   "dashboards": [],
   "environmentMetadata": {
    "base_environment": "",
    "environment_version": "2"
   },
   "inputWidgetPreferences": null,
   "language": "python",
   "notebookMetadata": {
    "pythonIndentUnit": 4
   },
   "notebookName": "04_Operaciones_Dataframes_Spark_Databricks",
   "widgets": {}
  },
  "language_info": {
   "name": "python"
  }
 },
 "nbformat": 4,
 "nbformat_minor": 0
}
