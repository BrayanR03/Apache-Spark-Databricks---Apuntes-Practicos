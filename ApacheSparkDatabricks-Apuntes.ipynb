{
 "cells": [
  {
   "cell_type": "code",
   "execution_count": 0,
   "metadata": {
    "application/vnd.databricks.v1+cell": {
     "cellMetadata": {
      "byteLimit": 2048000,
      "rowLimit": 10000
     },
     "inputWidgets": {},
     "nuid": "805ef10c-0efd-445d-95ca-5bee03de707b",
     "showTitle": false,
     "tableResultSettingsMap": {},
     "title": ""
    }
   },
   "outputs": [],
   "source": [
    "from pyspark.sql import SparkSession # Puerta de entrada para trabajar con spark <-- SIEMPRE DEBEMOS IMPORTAR LA LLAVE MAESTRA QUE INICIA TODO.\n",
    "from pyspark.sql.functions import *  # Funciones propias del módulo SQL de Spark, para trabajar sobre Dataframes.\n",
    "\n",
    "spark = SparkSession.builder.appName(\"ApacheSparkDatabricksApuntes\").getOrCreate() \n",
    "\"\"\"\n",
    "^          ^__________^        ^_________^                               ^\n",
    "|                |                   |                                   | \n",
    "Variable   Constructor de Sesión   Nombre Aplicación       Evita conflicto del SparkSession\"\"\"\n"
   ]
  },
  {
   "cell_type": "markdown",
   "metadata": {
    "application/vnd.databricks.v1+cell": {
     "cellMetadata": {},
     "inputWidgets": {},
     "nuid": "445a9068-289e-4d60-b0e7-c3169093dfe2",
     "showTitle": false,
     "tableResultSettingsMap": {},
     "title": ""
    }
   },
   "source": [
    "### RDDs (Versión Databricks Community Edition)"
   ]
  },
  {
   "cell_type": "markdown",
   "metadata": {
    "application/vnd.databricks.v1+cell": {
     "cellMetadata": {},
     "inputWidgets": {},
     "nuid": "881fd059-2f9f-43ce-98bd-4a35e8e080e2",
     "showTitle": false,
     "tableResultSettingsMap": {},
     "title": ""
    }
   },
   "source": [
    "#### Link de Databrick Community (Solo para el ejercicio de RDDs): [Databrick Community](https://community.cloud.databricks.com/?o=2956217321084781)"
   ]
  },
  {
   "cell_type": "markdown",
   "metadata": {
    "application/vnd.databricks.v1+cell": {
     "cellMetadata": {},
     "inputWidgets": {},
     "nuid": "7e7b95f0-310f-403d-8ae7-986d1bbdcc90",
     "showTitle": false,
     "tableResultSettingsMap": {},
     "title": ""
    }
   },
   "source": [
    "##### EXPLICACIÓN RDDs"
   ]
  },
  {
   "cell_type": "code",
   "execution_count": 0,
   "metadata": {
    "application/vnd.databricks.v1+cell": {
     "cellMetadata": {},
     "inputWidgets": {},
     "nuid": "7dfdda75-6127-4f19-a1d4-c6293b7fd06e",
     "showTitle": false,
     "tableResultSettingsMap": {},
     "title": ""
    }
   },
   "outputs": [],
   "source": [
    "\n",
    "sc = spark.sparkContext # INSTANCIAMOS SPARK CONTEXT PARA EL USO DE RDDs\n",
    "# Crear RDD desde lista\n",
    "lista_rdd_final = sc.parallelize([1, 2, 3, 4, 5]) #<-- Usamos .parallelize() para definir SOLO RDDs\n",
    "print(lista_rdd_final.collect()) #<-- Al imprimir una lista, siempre haremos referencia a collect()\n",
    "\n",
    "# # DICCIONARIOS EN SPARK - USANDO RDDS --> parallelize()\n",
    "diccionario = spark.sparkContext.parallelize({\"Nombre\":\"Brayan\",\"Edad\":21}.items())\n",
    "print(diccionario.collect())\n",
    "\n",
    "# # # SETS EN SPARK - USANDO RDDS --> parallelize()\n",
    "sets = spark.sparkContext.parallelize({1,2,3,3,4,4,5})\n",
    "print(sets.collect())\n",
    "\n",
    "# # # TUPLAS EN SPARK - USANDO RDDS --> parallelize()\n",
    "tupla = spark.sparkContext.parallelize((1,2,3,4,5,\"BRAYAN\"))\n",
    "print(tupla.collect())"
   ]
  },
  {
   "cell_type": "code",
   "execution_count": 0,
   "metadata": {
    "application/vnd.databricks.v1+cell": {
     "cellMetadata": {},
     "inputWidgets": {},
     "nuid": "56ca5e31-7345-43b0-b2c7-317a8c97c20e",
     "showTitle": false,
     "tableResultSettingsMap": {},
     "title": ""
    }
   },
   "outputs": [],
   "source": [
    "# FUNCIONES DE ACCIONES DE RDDs:\n",
    "# **Tomaremos de referencia la lista definida:\n",
    "print(lista_rdd_final.collect()) # Retorna todos los elementos del RDD\n",
    "print(lista_rdd_final.count()) # Retorna la cantidad de elementos del RDD\n",
    "print(lista_rdd_final.first()) # Retorna el primer elemento del RDD\n",
    "print(lista_rdd_final.take(3)) # Retorna los N primeros elementos del RDD\n",
    "\n",
    "# FUNCIONES DE TRANSFORMACIONES DE RDDs:\n",
    "# ** Tomaremos de referencia la lisa definida:\n",
    "\n",
    "# *FILTER\n",
    "print(lista_rdd_final.filter(lambda x:x%2==0).collect()) # Filtrar elementos del RDD basados en una función\n",
    "\n",
    "# *MAP\n",
    "print(lista_rdd_final.map(lambda x:x+2).collect()) # Retorna misma cantidad de elementos del RDD, pero, modificados.\n",
    "\n",
    "# *FLATMAP\n",
    "texto = spark.sparkContext.parallelize([\"Hola como estas?\",\"Espero muy bien\"])\n",
    "print(texto.flatMap(lambda x: x.split(\" \")).collect()) # Retorna una cantidad diferente de elementos del RDD y modificados."
   ]
  },
  {
   "cell_type": "code",
   "execution_count": 0,
   "metadata": {
    "application/vnd.databricks.v1+cell": {
     "cellMetadata": {},
     "inputWidgets": {},
     "nuid": "2c9fd874-ea35-4e89-8dd8-036b376bbb4b",
     "showTitle": false,
     "tableResultSettingsMap": {},
     "title": ""
    }
   },
   "outputs": [],
   "source": [
    "# FUNCIONES DE AGRUPACIÓN:            \n",
    "# * REDUCE\n",
    "print(lista_rdd_final.reduce(lambda x,y:x+y)) # Función que permite reducir a la mínima expresión.\n",
    "\n",
    "# * REDUCE BY KEY\n",
    "ventas = [\n",
    "    (\"Manzana\",10),\n",
    "    (\"Pera\",15),\n",
    "    (\"Manzana\",5),\n",
    "    (\"Platano\",50)\n",
    "]\n",
    "diccionario_rdd = spark.sparkContext.parallelize(ventas)\n",
    "print(diccionario_rdd.reduceByKey(lambda x,y:x+y).collect()) # Permite retornar datos agrupados"
   ]
  },
  {
   "cell_type": "markdown",
   "metadata": {
    "application/vnd.databricks.v1+cell": {
     "cellMetadata": {},
     "inputWidgets": {},
     "nuid": "0e0a4bde-9df9-454e-ba36-34b107679411",
     "showTitle": false,
     "tableResultSettingsMap": {},
     "title": ""
    }
   },
   "source": [
    "##### EJERICICIOS RDDs"
   ]
  },
  {
   "cell_type": "code",
   "execution_count": 0,
   "metadata": {
    "application/vnd.databricks.v1+cell": {
     "cellMetadata": {},
     "inputWidgets": {},
     "nuid": "e39f34f1-e929-4713-84cb-46d29ef3745b",
     "showTitle": false,
     "tableResultSettingsMap": {},
     "title": ""
    }
   },
   "outputs": [],
   "source": [
    "# EJERCICIOS BÁSICOS DE APACHE SPARK - RDDs\n",
    "\n",
    "# 1. \n",
    "dias_semana = [\"Lunes\", \"Martes\", \"Miércoles\", \"Jueves\", \"Viernes\", \"Sábado\", \"Domingo\"]\n",
    "rdd_dias_semana = spark.sparkContext.parallelize(dias_semana)\n",
    "print(rdd_dias_semana.collect())\n",
    "\n",
    "# 2.\n",
    "numeros = [1,2,3,4,5,6,7,8,9,10]\n",
    "rdd_numeros = spark.sparkContext.parallelize(numeros)\n",
    "print(rdd_numeros.count())\n",
    "\n",
    "# 3. \n",
    "ciudades = [\"Paris\",\"Shangai\",\"Roma\",\"Buenos Aires\"]\n",
    "rdd_ciudades = spark.sparkContext.parallelize(ciudades)\n",
    "print(rdd_ciudades.first())\n",
    "\n",
    "# 4.\n",
    "numeros = [1,2,3,4,5,6,7,8,9,10,11,12,13,14,15,16,17,18,19,20]\n",
    "numeros_rdd = spark.sparkContext.parallelize(numeros)\n",
    "print(numeros_rdd.take(5))\n",
    "\n",
    "# 5.\n",
    "numeros = [1,2,3,4,5,6,7,8,9,10,11,12,13,14,15,16,17,18,19,20]\n",
    "rdd_numeros = spark.sparkContext.parallelize(numeros)\n",
    "print(rdd_numeros.filter(lambda x:x%2==0).collect())\n",
    "\n",
    "# 6.\n",
    "numeros = [1,2,3,4,5]\n",
    "rdd_numeros = spark.sparkContext.parallelize(numeros)\n",
    "rdd_cuadrados = rdd_numeros.map(lambda x:x**2)\n",
    "print(rdd_cuadrados.collect()) \n",
    "\n",
    "# 7.\n",
    "frases = [\"Hola mundo\", \"Spark es genial\", \"RDDs son poderosos\"]\n",
    "rdd_frases = spark.sparkContext.parallelize(frases)\n",
    "print(rdd_frases.flatMap(lambda x:x.split(\" \")).collect())\n",
    "\n",
    "# 8.\n",
    "numeros = [1,2,3,4,5,6,7,8,9,10]\n",
    "rdd_numeros = spark.sparkContext.parallelize(numeros)\n",
    "print(rdd_numeros.reduce(lambda x,y:x+y))\n",
    "\n",
    "# 9.\n",
    "lista_tuplas = [(\"a\", 1), (\"b\", 2), (\"a\", 3), (\"b\", 4), (\"c\", 5)]\n",
    "rdd_lista_tuplas = spark.sparkContext.parallelize(lista_tuplas)\n",
    "print(rdd_lista_tuplas.reduceByKey(lambda x,y:x+y).collect())\n",
    "\n",
    "# 10.\n",
    "frases = [\"Hola mundo\", \"Spark es genial\", \"RDDs son poderosos\"]\n",
    "rdd_frases = spark.sparkContext.parallelize(frases)\n",
    "flat_map_frases = rdd_frases.flatMap(lambda x:x.split(\" \"))\n",
    "print(f\"Cantidad de  palabras mayor a 4 letras: {flat_map_frases.filter(lambda x:len(x)>4).count()}\")\n",
    "\n",
    "\n"
   ]
  }
 ],
 "metadata": {
  "application/vnd.databricks.v1+notebook": {
   "computePreferences": null,
   "dashboards": [],
   "environmentMetadata": {
    "base_environment": "",
    "environment_version": "2"
   },
   "inputWidgetPreferences": null,
   "language": "python",
   "notebookMetadata": {
    "pythonIndentUnit": 4
   },
   "notebookName": "ApacheSparkDatabricks-Apuntes",
   "widgets": {}
  },
  "language_info": {
   "name": "python"
  }
 },
 "nbformat": 4,
 "nbformat_minor": 0
}
